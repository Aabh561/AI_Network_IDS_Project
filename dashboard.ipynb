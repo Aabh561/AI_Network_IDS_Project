{
 "cells": [
  {
   "cell_type": "markdown",
   "metadata": {},
   "source": [
    "# Real-Time Threat Dashboard"
   ]
  },
  {
   "cell_type": "code",
   "execution_count": null,
   "metadata": {},
   "outputs": [],
   "source": [
    "import pandas as pd\n",
    "import plotly.express as px\n",
    "import ipywidgets as widgets\n",
    "\n",
    "df = pd.read_csv('data/synthetic/sample_log.csv')\n",
    "df['timestamp'] = pd.to_datetime(df['timestamp'])\n",
    "\n",
    "attack_counts = df['attack_type'].value_counts().reset_index()\n",
    "attack_counts.columns = ['Attack Type', 'Count']\n",
    "fig = px.bar(attack_counts, x='Attack Type', y='Count', color='Attack Type', title='Attack Distribution')\n",
    "fig.show()"
   ]
  }
 ],
 "metadata": {
  "kernelspec": {
   "display_name": "Python 3",
   "language": "python",
   "name": "python3"
  },
  "language_info": {
   "name": "python",
   "version": ""
  }
 },
 "nbformat": 4,
 "nbformat_minor": 2
}
