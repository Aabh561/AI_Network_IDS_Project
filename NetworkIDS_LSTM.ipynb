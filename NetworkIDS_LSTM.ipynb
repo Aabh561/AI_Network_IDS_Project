# 📌 1. Import Libraries
import pandas as pd
import numpy as np
import matplotlib.pyplot as plt
import seaborn as sns
from sklearn.preprocessing import LabelEncoder, StandardScaler
from sklearn.model_selection import train_test_split
from tensorflow.keras.models import Sequential
from tensorflow.keras.layers import LSTM, Dense, Dropout
from tensorflow.keras.utils import to_categorical

# 📌 2. Load Dataset
train_path = 'data/KDDTrain+.txt'
test_path = 'data/KDDTest+.txt'

df_train = pd.read_csv(train_path, header=None)
df_test = pd.read_csv(test_path, header=None)

# 📌 3. Merge for consistent preprocessing
df_all = pd.concat([df_train, df_test], axis=0)

# 📌 4. Encode Categorical Features
categorical_cols = [1, 2, 3]  # 'protocol_type', 'service', 'flag'
for col in categorical_cols:
    le = LabelEncoder()
    df_all[col] = le.fit_transform(df_all[col])

# 📌 5. Split back into train and test
df_train = df_all.iloc[:len(df_train)]
df_test = df_all.iloc[len(df_train):]

# 📌 6. Separate Features and Labels
X_train = df_train.iloc[:, :-1]
y_train = df_train.iloc[:, -1]
X_test = df_test.iloc[:, :-1]
y_test = df_test.iloc[:, -1]

# 📌 7. Encode Labels
label_encoder = LabelEncoder()
y_train = label_encoder.fit_transform(y_train)
y_test = label_encoder.transform(y_test)

y_train = to_categorical(y_train)
y_test = to_categorical(y_test)

# 📌 8. Normalize Features
scaler = StandardScaler()
X_train = scaler.fit_transform(X_train)
X_test = scaler.transform(X_test)

# 📌 9. Reshape for LSTM: [samples, timesteps, features]
X_train = X_train.reshape((X_train.shape[0], 1, X_train.shape[1]))
X_test = X_test.reshape((X_test.shape[0], 1, X_test.shape[1]))

# 📌 10. Build LSTM Model
model = Sequential()
model.add(LSTM(128, return_sequences=True, input_shape=(1, X_train.shape[2])))
model.add(Dropout(0.2))
model.add(LSTM(64))
model.add(Dropout(0.2))
model.add(Dense(y_train.shape[1], activation='softmax'))

model.compile(loss='categorical_crossentropy', optimizer='adam', metrics=['accuracy'])
model.summary()

# 📌 11. Train the Model
history = model.fit(X_train, y_train, epochs=10, batch_size=64, validation_data=(X_test, y_test))

# 📌 12. Evaluate
loss, accuracy = model.evaluate(X_test, y_test)
print(f"✅ Test Accuracy: {accuracy * 100:.2f}%")

# 📌 13. Accuracy Plot
plt.plot(history.history['accuracy'], label='Train Accuracy')
plt.plot(history.history['val_accuracy'], label='Validation Accuracy')
plt.xlabel('Epoch')
plt.ylabel('Accuracy')
plt.title('LSTM IDS Model Accuracy')
plt.legend()
plt.grid(True)
plt.show()
